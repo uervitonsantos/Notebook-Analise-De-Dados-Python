{
  "nbformat": 4,
  "nbformat_minor": 0,
  "metadata": {
    "colab": {
      "name": "nlp-nltk.ipynb",
      "provenance": [],
      "authorship_tag": "ABX9TyNCjzBoEDWJobj5KqFlyewi",
      "include_colab_link": true
    },
    "kernelspec": {
      "name": "python3",
      "display_name": "Python 3"
    },
    "language_info": {
      "name": "python"
    }
  },
  "cells": [
    {
      "cell_type": "markdown",
      "metadata": {
        "id": "view-in-github",
        "colab_type": "text"
      },
      "source": [
        "<a href=\"https://colab.research.google.com/github/uervitonsantos/Notebook-Analise-De-Dados-Python/blob/main/nlp_nltk.ipynb\" target=\"_parent\"><img src=\"https://colab.research.google.com/assets/colab-badge.svg\" alt=\"Open In Colab\"/></a>"
      ]
    },
    {
      "cell_type": "code",
      "metadata": {
        "id": "xVoDV7FIPNrN"
      },
      "source": [
        "import nltk\n",
        "nltk.download(\"book\")\n"
      ],
      "execution_count": null,
      "outputs": []
    },
    {
      "cell_type": "code",
      "metadata": {
        "id": "sanwnnNsPgJ1"
      },
      "source": [
        "text =\"E por isso acreditava também na grande responsabilidade do livre-arbítrio. Se não houvesse livre-arbítrio, o homem não seria nada, não poderia aspirar a nenhuma dignidade, pois que não teria responsabilidade de que, se queremos que o mundo melhore, devemos fazer por onde ele melhore, já que o mundo é nosso, é do homem e a ele foi dado. Não se pode querer que Deus resolva os problemas do homem, porque, se o fizesse, retiraria do homem a responsabilidade e, por consequência, o livre-arbítrio.\""
      ],
      "execution_count": null,
      "outputs": []
    },
    {
      "cell_type": "code",
      "metadata": {
        "id": "QZPwJfIAWXq7",
        "colab": {
          "base_uri": "https://localhost:8080/"
        },
        "outputId": "2aed329c-5f26-4c5d-dfd9-dbc237cafcb4"
      },
      "source": [
        "sentences = nltk.tokenize.sent_tokenize(text)\n",
        "sentences"
      ],
      "execution_count": 43,
      "outputs": [
        {
          "output_type": "execute_result",
          "data": {
            "text/plain": [
              "['E por isso acreditava também na grande responsabilidade do livre-arbítrio.',\n",
              " 'Se não houvesse livre-arbítrio, o homem não seria nada, não poderia aspirar a nenhuma dignidade, pois que não teria responsabilidade de que, se queremos que o mundo melhore, devemos fazer por onde ele melhore, já que o mundo é nosso, é do homem e a ele foi dado.',\n",
              " 'Não se pode querer que Deus resolva os problemas do homem, porque, se o fizesse, retiraria do homem a responsabilidade e, por consequência, o livre-arbítrio.']"
            ]
          },
          "metadata": {
            "tags": []
          },
          "execution_count": 43
        }
      ]
    },
    {
      "cell_type": "code",
      "metadata": {
        "id": "VgX__4AecOQ9",
        "colab": {
          "base_uri": "https://localhost:8080/"
        },
        "outputId": "da14bf4b-fba7-4497-e3f9-afbd7a45020b"
      },
      "source": [
        "sentences = [nltk.tokenize.word_tokenize(s) for s in sentences]\n",
        "sentences"
      ],
      "execution_count": 44,
      "outputs": [
        {
          "output_type": "execute_result",
          "data": {
            "text/plain": [
              "[['E',\n",
              "  'por',\n",
              "  'isso',\n",
              "  'acreditava',\n",
              "  'também',\n",
              "  'na',\n",
              "  'grande',\n",
              "  'responsabilidade',\n",
              "  'do',\n",
              "  'livre-arbítrio',\n",
              "  '.'],\n",
              " ['Se',\n",
              "  'não',\n",
              "  'houvesse',\n",
              "  'livre-arbítrio',\n",
              "  ',',\n",
              "  'o',\n",
              "  'homem',\n",
              "  'não',\n",
              "  'seria',\n",
              "  'nada',\n",
              "  ',',\n",
              "  'não',\n",
              "  'poderia',\n",
              "  'aspirar',\n",
              "  'a',\n",
              "  'nenhuma',\n",
              "  'dignidade',\n",
              "  ',',\n",
              "  'pois',\n",
              "  'que',\n",
              "  'não',\n",
              "  'teria',\n",
              "  'responsabilidade',\n",
              "  'de',\n",
              "  'que',\n",
              "  ',',\n",
              "  'se',\n",
              "  'queremos',\n",
              "  'que',\n",
              "  'o',\n",
              "  'mundo',\n",
              "  'melhore',\n",
              "  ',',\n",
              "  'devemos',\n",
              "  'fazer',\n",
              "  'por',\n",
              "  'onde',\n",
              "  'ele',\n",
              "  'melhore',\n",
              "  ',',\n",
              "  'já',\n",
              "  'que',\n",
              "  'o',\n",
              "  'mundo',\n",
              "  'é',\n",
              "  'nosso',\n",
              "  ',',\n",
              "  'é',\n",
              "  'do',\n",
              "  'homem',\n",
              "  'e',\n",
              "  'a',\n",
              "  'ele',\n",
              "  'foi',\n",
              "  'dado',\n",
              "  '.'],\n",
              " ['Não',\n",
              "  'se',\n",
              "  'pode',\n",
              "  'querer',\n",
              "  'que',\n",
              "  'Deus',\n",
              "  'resolva',\n",
              "  'os',\n",
              "  'problemas',\n",
              "  'do',\n",
              "  'homem',\n",
              "  ',',\n",
              "  'porque',\n",
              "  ',',\n",
              "  'se',\n",
              "  'o',\n",
              "  'fizesse',\n",
              "  ',',\n",
              "  'retiraria',\n",
              "  'do',\n",
              "  'homem',\n",
              "  'a',\n",
              "  'responsabilidade',\n",
              "  'e',\n",
              "  ',',\n",
              "  'por',\n",
              "  'consequência',\n",
              "  ',',\n",
              "  'o',\n",
              "  'livre-arbítrio',\n",
              "  '.']]"
            ]
          },
          "metadata": {
            "tags": []
          },
          "execution_count": 44
        }
      ]
    }
  ]
}