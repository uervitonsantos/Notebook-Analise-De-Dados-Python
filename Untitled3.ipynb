{
  "nbformat": 4,
  "nbformat_minor": 0,
  "metadata": {
    "colab": {
      "name": "Untitled3.ipynb",
      "provenance": [],
      "authorship_tag": "ABX9TyPB7Cy10I0IeoLRgppSx32l",
      "include_colab_link": true
    },
    "kernelspec": {
      "name": "python3",
      "display_name": "Python 3"
    },
    "language_info": {
      "name": "python"
    }
  },
  "cells": [
    {
      "cell_type": "markdown",
      "metadata": {
        "id": "view-in-github",
        "colab_type": "text"
      },
      "source": [
        "<a href=\"https://colab.research.google.com/github/uervitonsantos/Notebook-Analise-De-Dados-Python/blob/main/Untitled3.ipynb\" target=\"_parent\"><img src=\"https://colab.research.google.com/assets/colab-badge.svg\" alt=\"Open In Colab\"/></a>"
      ]
    },
    {
      "cell_type": "code",
      "metadata": {
        "id": "xVoDV7FIPNrN"
      },
      "source": [
        "import nltk\n",
        "nltk.download(\"book\")\n"
      ],
      "execution_count": null,
      "outputs": []
    },
    {
      "cell_type": "code",
      "metadata": {
        "id": "sanwnnNsPgJ1"
      },
      "source": [
        "text =\"E por isso acreditava também na grande responsabilidade do livre-arbítrio. Se não houvesse livre-arbítrio, o homem não seria nada, não poderia aspirar a nenhuma dignidade, pois que não teria responsabilidade de que, se queremos que o mundo melhore, devemos fazer por onde ele melhore, já que o mundo é nosso, é do homem e a ele foi dado. Não se pode querer que Deus resolva os problemas do homem, porque, se o fizesse, retiraria do homem a responsabilidade e, por consequência, o livre-arbítrio.\""
      ],
      "execution_count": null,
      "outputs": []
    },
    {
      "cell_type": "code",
      "metadata": {
        "id": "QZPwJfIAWXq7"
      },
      "source": [
        "sentences = nltk.tokenize.sent_tokenize(text)\n",
        "sentences"
      ],
      "execution_count": null,
      "outputs": []
    },
    {
      "cell_type": "code",
      "metadata": {
        "id": "VgX__4AecOQ9"
      },
      "source": [
        "tokens = [nltk.tokenize.word_tokenize(s) for s in sentences]\n",
        "tokens"
      ],
      "execution_count": null,
      "outputs": []
    }
  ]
}